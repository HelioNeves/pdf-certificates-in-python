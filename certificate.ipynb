{
  "nbformat": 4,
  "nbformat_minor": 0,
  "metadata": {
    "colab": {
      "name": "certificate.ipynb",
      "provenance": [],
      "collapsed_sections": [],
      "include_colab_link": true
    },
    "kernelspec": {
      "name": "python3",
      "display_name": "Python 3"
    }
  },
  "cells": [
    {
      "cell_type": "markdown",
      "metadata": {
        "id": "view-in-github",
        "colab_type": "text"
      },
      "source": [
        "<a href=\"https://colab.research.google.com/github/HelioNeves/pdf-certificates-in-python/blob/master/certificate.ipynb\" target=\"_parent\"><img src=\"https://colab.research.google.com/assets/colab-badge.svg\" alt=\"Open In Colab\"/></a>"
      ]
    },
    {
      "cell_type": "markdown",
      "metadata": {
        "id": "Jd3vJLTFp6x-",
        "colab_type": "text"
      },
      "source": [
        "# Create .pdf certificates in with Python and Google Drive\n"
      ]
    },
    {
      "cell_type": "markdown",
      "metadata": {
        "id": "U2GHtm0u1ZJx",
        "colab_type": "text"
      },
      "source": [
        "### Requirements\n"
      ]
    },
    {
      "cell_type": "code",
      "metadata": {
        "id": "Exx-tNMt1B5n",
        "colab_type": "code",
        "colab": {}
      },
      "source": [
        "# RUN ONLY ONCE\n",
        "!pip install -U -q PyDrive\n",
        "!pip install PyPDF2\n",
        "!pip install reportlab\n",
        "!pip install --upgrade -q gspread"
      ],
      "execution_count": 0,
      "outputs": []
    },
    {
      "cell_type": "markdown",
      "metadata": {
        "id": "Clts4c5xnjHt",
        "colab_type": "text"
      },
      "source": [
        "### Allow PyDrive mount your Drive"
      ]
    },
    {
      "cell_type": "code",
      "metadata": {
        "id": "Ob41vLIS1km0",
        "colab_type": "code",
        "colab": {}
      },
      "source": [
        "from google.colab import drive\n",
        "drive.mount('/content/drive')"
      ],
      "execution_count": 0,
      "outputs": []
    },
    {
      "cell_type": "markdown",
      "metadata": {
        "id": "RiiTwEHn2GyJ",
        "colab_type": "text"
      },
      "source": [
        "### Check dataset Location\n",
        "Indicate where in Google Drive spreadsheets are available:\n",
        "ex.:\n",
        "\n",
        "* drive/My Drive/UFCSPA/TEDxUFCSPA/Certificados/Participantes/"
      ]
    },
    {
      "cell_type": "code",
      "metadata": {
        "id": "QOO1enaC2mzc",
        "colab_type": "code",
        "colab": {}
      },
      "source": [
        "!ls 'drive/My Drive/spreadsheets_folder/'"
      ],
      "execution_count": 0,
      "outputs": []
    },
    {
      "cell_type": "markdown",
      "metadata": {
        "id": "WoeImwB0ogk8",
        "colab_type": "text"
      },
      "source": [
        "#### Once you find your files, then set:"
      ]
    },
    {
      "cell_type": "code",
      "metadata": {
        "id": "92j4J1_X2JHy",
        "colab_type": "code",
        "colab": {}
      },
      "source": [
        "PATH = 'drive/My Drive/spreadsheets_folder/'\n",
        "SPREADSHEET_NAME = 'name'\n",
        "MODEL = \"model_name.pdf\"\n",
        "CERTIFICATES_FOLDER = \"Folder/\""
      ],
      "execution_count": 0,
      "outputs": []
    },
    {
      "cell_type": "markdown",
      "metadata": {
        "id": "ilBbmXOw3M5m",
        "colab_type": "text"
      },
      "source": [
        "### Load spreadsheet\n",
        "\n"
      ]
    },
    {
      "cell_type": "code",
      "metadata": {
        "id": "diLchfMVKznf",
        "colab_type": "code",
        "colab": {}
      },
      "source": [
        "from google.colab import auth\n",
        "auth.authenticate_user()\n",
        "\n",
        "import gspread\n",
        "from oauth2client.client import GoogleCredentials\n",
        "\n",
        "gc = gspread.authorize(GoogleCredentials.get_application_default())\n",
        "\n",
        "worksheet = gc.open(SPREADSHEET_NAME).sheet1\n",
        "\n",
        "# get_all_values gives a list of rows\n",
        "rows = worksheet.get_all_values()\n",
        "print(rows)\n",
        "\n",
        "# Convert to a DataFrame and render\n",
        "import pandas as pd\n",
        "df = pd.DataFrame.from_records(rows)"
      ],
      "execution_count": 0,
      "outputs": []
    },
    {
      "cell_type": "markdown",
      "metadata": {
        "id": "J6hlR_CspNNU",
        "colab_type": "text"
      },
      "source": [
        "### Transform PDF files and save in a folder"
      ]
    },
    {
      "cell_type": "code",
      "metadata": {
        "id": "I039e8iZL_8B",
        "colab_type": "code",
        "colab": {}
      },
      "source": [
        "from PyPDF2 import PdfFileWriter, PdfFileReader\n",
        "import io, time\n",
        "from reportlab.pdfgen import canvas\n",
        "from reportlab.lib.pagesizes import letter\n",
        "from reportlab.pdfbase.pdfmetrics import stringWidth\n",
        "from reportlab.rl_config import defaultPageSize\n",
        "\n",
        "def pdf_print(name):\n",
        "  PAGE_WIDTH  = defaultPageSize[1]\n",
        "\n",
        "\n",
        "  packet = io.BytesIO()\n",
        "  # create a new PDF with Reportlab Lucas Costa dos Santos\n",
        "  can = canvas.Canvas(packet)\n",
        "\n",
        "  ''' SET FONT, FONT SIZE AND TEXT HEIGHT \n",
        "  '''\n",
        "  text = name\n",
        "  text_width = stringWidth(text, 'Helvetica-Bold', 18)\n",
        "  height = 340 # wherever you want your text to appear\n",
        "  can.setFont('Helvetica-Bold', 18) # Change Font, Font-size, etc\n",
        "  can.drawString((PAGE_WIDTH - text_width) / 2.0, height, text)\n",
        "  can.save()\n",
        "  '''\n",
        "  '''\n",
        "  # move to the beginning of the StringIO buffer\n",
        "  packet.seek(0)\n",
        "  new_pdf = PdfFileReader(packet)\n",
        "  # read your existing PDF\n",
        "  existing_pdf = PdfFileReader(open(PATH+MODEL, \"rb\"))\n",
        "  output = PdfFileWriter()\n",
        "  page = existing_pdf.getPage(0)\n",
        "  page.mergePage(new_pdf.getPage(0))\n",
        "  output.addPage(page)\n",
        "  # finally, write \"output\" to a real file\n",
        "  print(\"Published the certificate: \"+name)\n",
        "  outputStream = open(PATH+CERTIFICATES_FOLDER+name+\".pdf\", \"wb\")\n",
        "  output.write(outputStream)\n",
        "  outputStream.close()"
      ],
      "execution_count": 0,
      "outputs": []
    },
    {
      "cell_type": "markdown",
      "metadata": {
        "id": "MVbpk8M3rher",
        "colab_type": "text"
      },
      "source": [
        "### Let's Play "
      ]
    },
    {
      "cell_type": "code",
      "metadata": {
        "id": "_bY85Y3JMSuR",
        "colab_type": "code",
        "colab": {}
      },
      "source": [
        "for index, row in df.iterrows():\n",
        "  pdf_print(row[0].upper())"
      ],
      "execution_count": 0,
      "outputs": []
    }
  ]
}